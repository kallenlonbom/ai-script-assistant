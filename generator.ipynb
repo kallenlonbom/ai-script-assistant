{
 "cells": [
  {
   "cell_type": "code",
   "execution_count": 2,
   "metadata": {},
   "outputs": [
    {
     "name": "stdout",
     "output_type": "stream",
     "text": [
      "Failed to load file data\\train.csv with error: No columns to parse from file. Skipping...\n",
      "Loaded\n"
     ]
    }
   ],
   "source": [
    "from llama_index.core import VectorStoreIndex, SimpleDirectoryReader, StorageContext, load_index_from_storage, Settings\n",
    "from llama_index.llms.openai import OpenAI\n",
    "from llama_index.core.node_parser import SimpleNodeParser\n",
    "import os\n",
    "\n",
    "os.environ[\"OPENAI_API_KEY\"] = \"YOUR API KEY\"\n",
    "\n",
    "examples = SimpleDirectoryReader(input_files=['data/train.csv']).load_data()\n",
    "print(\"Loaded\")\n",
    "\n",
    "# define LLM\n",
    "llm = OpenAI(model=\"gpt-4\")\n",
    "Settings.llm = llm\n",
    "\n",
    "# build index and query engine\n",
    "node_parser = SimpleNodeParser.from_defaults(chunk_size=260,chunk_overlap=2)\n",
    "nodes = node_parser.get_nodes_from_documents(examples)\n",
    "index = VectorStoreIndex(nodes)\n",
    "writer = index.as_chat_engine()"
   ]
  },
  {
   "cell_type": "code",
   "execution_count": 3,
   "metadata": {},
   "outputs": [],
   "source": [
    "from llama_index.core import StorageContext, load_index_from_storage\n",
    "index.storage_context.persist(persist_dir=\"saved\")"
   ]
  },
  {
   "cell_type": "code",
   "execution_count": 5,
   "metadata": {},
   "outputs": [],
   "source": [
    "def Test(sampleInputs, sampleOutputs):\n",
    "    try:\n",
    "        realOutputs = TestFunction(sampleInputs)\n",
    "        print(realOutputs)\n",
    "        if realOutputs == sampleOutputs:\n",
    "            return False\n",
    "        else:\n",
    "            return 'Error: With inputs ' + str(sampleInputs) + ' returned ' + str(realOutputs) + ', expected ' + str(sampleOutputs) + '. Give the corrected code.'\n",
    "    except Exception as ex:\n",
    "        return ex.message"
   ]
  },
  {
   "cell_type": "code",
   "execution_count": 6,
   "metadata": {},
   "outputs": [
    {
     "name": "stdout",
     "output_type": "stream",
     "text": [
      "Write a python script that has one function called \"TestFunction\" which given a list of integers temperatures which represents the daily temperatures, return a list answer such that answer[i] is the number of days you have to wait after the ith day to get a warmer temperature. If there is no future day for which this is possible, keep answer[i] == 0 instead.\n",
      "Here is a Python script that implements the \"TestFunction\":\n",
      "\n",
      "```python\n",
      "def TestFunction(temperatures):\n",
      "    answer = [0] * len(temperatures)\n",
      "    stack = []\n",
      "\n",
      "    for i, temp in enumerate(temperatures):\n",
      "        while stack and temperatures[stack[-1]] < temp:\n",
      "            j = stack.pop()\n",
      "            answer[j] = i - j\n",
      "        stack.append(i)\n",
      "\n",
      "    return answer\n",
      "```\n",
      "\n",
      "This function uses a stack to keep track of the indices of the temperatures. It iterates over the temperatures list and for each temperature, it pops out all the temperatures from the stack that are less than the current temperature. For each popped temperature, it calculates the difference between the current index and the popped index, which is the number of days you have to wait to get a warmer temperature. If there is no future day for which this is possible, the value in the answer list remains 0.\n"
     ]
    },
    {
     "ename": "AttributeError",
     "evalue": "'TypeError' object has no attribute 'message'",
     "output_type": "error",
     "traceback": [
      "\u001b[1;31m---------------------------------------------------------------------------\u001b[0m",
      "\u001b[1;31mTypeError\u001b[0m                                 Traceback (most recent call last)",
      "Cell \u001b[1;32mIn[5], line 3\u001b[0m, in \u001b[0;36mTest\u001b[1;34m(sampleInputs, sampleOutputs)\u001b[0m\n\u001b[0;32m      2\u001b[0m \u001b[38;5;28;01mtry\u001b[39;00m:\n\u001b[1;32m----> 3\u001b[0m     realOutputs \u001b[38;5;241m=\u001b[39m \u001b[43mTestFunction\u001b[49m\u001b[43m(\u001b[49m\u001b[43msampleInputs\u001b[49m\u001b[43m)\u001b[49m\n\u001b[0;32m      4\u001b[0m     \u001b[38;5;28mprint\u001b[39m(realOutputs)\n",
      "\u001b[1;31mTypeError\u001b[0m: TestFunction() takes 0 positional arguments but 1 was given",
      "\nDuring handling of the above exception, another exception occurred:\n",
      "\u001b[1;31mAttributeError\u001b[0m                            Traceback (most recent call last)",
      "Cell \u001b[1;32mIn[6], line 10\u001b[0m\n\u001b[0;32m      8\u001b[0m \u001b[38;5;28;01mwith\u001b[39;00m \u001b[38;5;28mopen\u001b[39m(\u001b[38;5;124m'\u001b[39m\u001b[38;5;124mtest.py\u001b[39m\u001b[38;5;124m'\u001b[39m, \u001b[38;5;124m'\u001b[39m\u001b[38;5;124mw\u001b[39m\u001b[38;5;124m'\u001b[39m) \u001b[38;5;28;01mas\u001b[39;00m file:\n\u001b[0;32m      9\u001b[0m     file\u001b[38;5;241m.\u001b[39mwrite(\u001b[38;5;28mstr\u001b[39m(output)\u001b[38;5;241m.\u001b[39msplit(\u001b[38;5;124m'\u001b[39m\u001b[38;5;124m```\u001b[39m\u001b[38;5;124m'\u001b[39m)[\u001b[38;5;241m1\u001b[39m][\u001b[38;5;241m6\u001b[39m:])\n\u001b[1;32m---> 10\u001b[0m failed \u001b[38;5;241m=\u001b[39m \u001b[43mTest\u001b[49m\u001b[43m(\u001b[49m\u001b[43m[\u001b[49m\u001b[38;5;241;43m73\u001b[39;49m\u001b[43m,\u001b[49m\u001b[38;5;241;43m74\u001b[39;49m\u001b[43m,\u001b[49m\u001b[38;5;241;43m75\u001b[39;49m\u001b[43m,\u001b[49m\u001b[38;5;241;43m71\u001b[39;49m\u001b[43m,\u001b[49m\u001b[38;5;241;43m69\u001b[39;49m\u001b[43m,\u001b[49m\u001b[38;5;241;43m72\u001b[39;49m\u001b[43m,\u001b[49m\u001b[38;5;241;43m76\u001b[39;49m\u001b[43m,\u001b[49m\u001b[38;5;241;43m73\u001b[39;49m\u001b[43m]\u001b[49m\u001b[43m,\u001b[49m\u001b[43m \u001b[49m\u001b[43m[\u001b[49m\u001b[38;5;241;43m1\u001b[39;49m\u001b[43m,\u001b[49m\u001b[38;5;241;43m1\u001b[39;49m\u001b[43m,\u001b[49m\u001b[38;5;241;43m4\u001b[39;49m\u001b[43m,\u001b[49m\u001b[38;5;241;43m2\u001b[39;49m\u001b[43m,\u001b[49m\u001b[38;5;241;43m1\u001b[39;49m\u001b[43m,\u001b[49m\u001b[38;5;241;43m1\u001b[39;49m\u001b[43m,\u001b[49m\u001b[38;5;241;43m0\u001b[39;49m\u001b[43m,\u001b[49m\u001b[38;5;241;43m0\u001b[39;49m\u001b[43m]\u001b[49m\u001b[43m)\u001b[49m\n\u001b[0;32m     11\u001b[0m \u001b[38;5;28;01mif\u001b[39;00m failed:\n\u001b[0;32m     12\u001b[0m     \u001b[38;5;28minput\u001b[39m \u001b[38;5;241m=\u001b[39m \u001b[38;5;124m'\u001b[39m\u001b[38;5;124mError: \u001b[39m\u001b[38;5;124m'\u001b[39m \u001b[38;5;241m+\u001b[39m failed\n",
      "Cell \u001b[1;32mIn[5], line 10\u001b[0m, in \u001b[0;36mTest\u001b[1;34m(sampleInputs, sampleOutputs)\u001b[0m\n\u001b[0;32m      8\u001b[0m         \u001b[38;5;28;01mreturn\u001b[39;00m \u001b[38;5;124m'\u001b[39m\u001b[38;5;124mError: With inputs \u001b[39m\u001b[38;5;124m'\u001b[39m \u001b[38;5;241m+\u001b[39m \u001b[38;5;28mstr\u001b[39m(sampleInputs) \u001b[38;5;241m+\u001b[39m \u001b[38;5;124m'\u001b[39m\u001b[38;5;124m returned \u001b[39m\u001b[38;5;124m'\u001b[39m \u001b[38;5;241m+\u001b[39m \u001b[38;5;28mstr\u001b[39m(realOutputs) \u001b[38;5;241m+\u001b[39m \u001b[38;5;124m'\u001b[39m\u001b[38;5;124m, expected \u001b[39m\u001b[38;5;124m'\u001b[39m \u001b[38;5;241m+\u001b[39m \u001b[38;5;28mstr\u001b[39m(sampleOutputs) \u001b[38;5;241m+\u001b[39m \u001b[38;5;124m'\u001b[39m\u001b[38;5;124m. Give the corrected code.\u001b[39m\u001b[38;5;124m'\u001b[39m\n\u001b[0;32m      9\u001b[0m \u001b[38;5;28;01mexcept\u001b[39;00m \u001b[38;5;167;01mException\u001b[39;00m \u001b[38;5;28;01mas\u001b[39;00m ex:\n\u001b[1;32m---> 10\u001b[0m     \u001b[38;5;28;01mreturn\u001b[39;00m \u001b[43mex\u001b[49m\u001b[38;5;241;43m.\u001b[39;49m\u001b[43mmessage\u001b[49m\n",
      "\u001b[1;31mAttributeError\u001b[0m: 'TypeError' object has no attribute 'message'"
     ]
    }
   ],
   "source": [
    "#input = input('Write a function that:')\n",
    "from test import TestFunction\n",
    "input = 'Write a python script that has one function called \"TestFunction\" which ' + 'given a list of integers temperatures which represents the daily temperatures, return a list answer such that answer[i] is the number of days you have to wait after the ith day to get a warmer temperature. If there is no future day for which this is possible, keep answer[i] == 0 instead.'\n",
    "while True:\n",
    "    print(input)\n",
    "    output = writer.chat(input)\n",
    "    print(output)\n",
    "    with open('test.py', 'w') as file:\n",
    "        file.write(str(output).split('```')[1][6:])\n",
    "    failed = Test([73,74,75,71,69,72,76,73], [1,1,4,2,1,1,0,0])\n",
    "    if failed:\n",
    "        input = 'Error: ' + failed\n",
    "    failed = Test([30,40,50,60], [1,1,1,0])\n",
    "    if failed:\n",
    "        input = 'Error: ' + failed\n",
    "    failed = Test([30,60,90], [1,1,0])\n",
    "    if failed:\n",
    "        input = 'Error: ' + failed\n",
    "    else:\n",
    "        break"
   ]
  }
 ],
 "metadata": {
  "kernelspec": {
   "display_name": "Python 3",
   "language": "python",
   "name": "python3"
  },
  "language_info": {
   "codemirror_mode": {
    "name": "ipython",
    "version": 3
   },
   "file_extension": ".py",
   "mimetype": "text/x-python",
   "name": "python",
   "nbconvert_exporter": "python",
   "pygments_lexer": "ipython3",
   "version": "3.12.4"
  }
 },
 "nbformat": 4,
 "nbformat_minor": 2
}
